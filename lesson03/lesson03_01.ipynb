{
 "cells": [
  {
   "cell_type": "markdown",
   "metadata": {},
   "source": [
    "* ## class"
   ]
  },
  {
   "cell_type": "code",
   "execution_count": 15,
   "metadata": {},
   "outputs": [],
   "source": [
    "#class Person:    也可以這樣寫\n",
    "# def __init__(self,name:str,age:int): #可寫可不寫 type hint\n",
    "#        self.name = name\n",
    "#        self.age = age\n",
    "\n",
    "class Person(object):\n",
    "    def __init__(self,name,age):\n",
    "        self.name = name\n",
    "        self.age = age"
   ]
  },
  {
   "cell_type": "code",
   "execution_count": 16,
   "metadata": {},
   "outputs": [
    {
     "data": {
      "text/plain": [
       "__main__.Person"
      ]
     },
     "execution_count": 16,
     "metadata": {},
     "output_type": "execute_result"
    }
   ],
   "source": [
    "#初始化(initial)\n",
    "p1 = Person(\"Ken\",20)\n",
    "type(p1)\n",
    "\n",
    "p2 =Person(\"Ben\",25)\n",
    "type(p2)\n"
   ]
  },
  {
   "cell_type": "code",
   "execution_count": 22,
   "metadata": {},
   "outputs": [
    {
     "name": "stdout",
     "output_type": "stream",
     "text": [
      "Ken 20\n",
      "<class 'str'> <class 'int'>\n",
      "==========================\n",
      "Ben 25\n"
     ]
    }
   ],
   "source": [
    "print(p1.name,p1.age)\n",
    "print(type(p1.name),type(p1.age))\n",
    "print('==========================')\n",
    "print(p2.name,p2.age)\n",
    "\n"
   ]
  }
 ],
 "metadata": {
  "kernelspec": {
   "display_name": "venv1",
   "language": "python",
   "name": "python3"
  },
  "language_info": {
   "codemirror_mode": {
    "name": "ipython",
    "version": 3
   },
   "file_extension": ".py",
   "mimetype": "text/x-python",
   "name": "python",
   "nbconvert_exporter": "python",
   "pygments_lexer": "ipython3",
   "version": "3.11.10"
  }
 },
 "nbformat": 4,
 "nbformat_minor": 2
}
