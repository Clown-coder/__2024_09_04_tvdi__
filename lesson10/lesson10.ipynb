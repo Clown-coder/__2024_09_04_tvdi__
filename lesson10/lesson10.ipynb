{
 "cells": [
  {
   "cell_type": "code",
   "execution_count": 3,
   "metadata": {},
   "outputs": [
    {
     "name": "stdout",
     "output_type": "stream",
     "text": [
      "[{'AQI': 43, 'Date': '2024-11-05 08:00', 'PM25': 17},\n",
      " {'AQI': 40, 'Date': '2024-11-05 07:00', 'PM25': 14},\n",
      " {'AQI': 39, 'Date': '2024-11-05 06:00', 'PM25': 12},\n",
      " {'AQI': 38, 'Date': '2024-11-05 05:00', 'PM25': 13},\n",
      " {'AQI': 37, 'Date': '2024-11-05 04:00', 'PM25': 8},\n",
      " {'AQI': 39, 'Date': '2024-11-05 03:00', 'PM25': 11},\n",
      " {'AQI': 42, 'Date': '2024-11-05 09:00', 'PM25': 12},\n",
      " {'AQI': 46, 'Date': '2024-11-05 10:00', 'PM25': 19},\n",
      " {'AQI': 46, 'Date': '2024-11-05 11:00', 'PM25': 15},\n",
      " {'AQI': 53, 'Date': '2024-11-05 13:00', 'PM25': 22},\n",
      " {'AQI': 46, 'Date': '2024-11-05 12:00', 'PM25': 0},\n",
      " {'AQI': 54, 'Date': '2024-11-05 14:00', 'PM25': 20},\n",
      " {'AQI': 57, 'Date': '2024-11-05 15:00', 'PM25': 20},\n",
      " {'AQI': 31, 'Date': '2024-11-12 09:00', 'PM25': 12},\n",
      " {'AQI': 30, 'Date': '2024-11-12 08:00', 'PM25': 10},\n",
      " {'AQI': 29, 'Date': '2024-11-12 07:00', 'PM25': 11},\n",
      " {'AQI': 28, 'Date': '2024-11-12 06:00', 'PM25': 7},\n",
      " {'AQI': 28, 'Date': '2024-11-12 05:00', 'PM25': 6},\n",
      " {'AQI': 28, 'Date': '2024-11-12 04:00', 'PM25': 7},\n",
      " {'AQI': 29, 'Date': '2024-11-12 03:00', 'PM25': 6},\n",
      " {'AQI': 32, 'Date': '2024-11-12 10:00', 'PM25': 12},\n",
      " {'AQI': 33, 'Date': '2024-11-12 11:00', 'PM25': 11},\n",
      " {'AQI': 37, 'Date': '2024-11-12 14:00', 'PM25': 9},\n",
      " {'AQI': 35, 'Date': '2024-11-12 13:00', 'PM25': 7},\n",
      " {'AQI': 34, 'Date': '2024-11-12 12:00', 'PM25': 11},\n",
      " {'AQI': 65, 'Date': '2024-11-13 08:00', 'PM25': 16},\n",
      " {'AQI': 66, 'Date': '2024-11-13 07:00', 'PM25': 35},\n",
      " {'AQI': 57, 'Date': '2024-11-13 06:00', 'PM25': 31},\n",
      " {'AQI': 48, 'Date': '2024-11-13 05:00', 'PM25': 22},\n",
      " {'AQI': 42, 'Date': '2024-11-13 04:00', 'PM25': 21},\n",
      " {'AQI': 35, 'Date': '2024-11-13 03:00', 'PM25': 14},\n",
      " {'AQI': 34, 'Date': '2024-11-13 02:00', 'PM25': 11},\n",
      " {'AQI': 62, 'Date': '2024-11-13 09:00', 'PM25': 9},\n",
      " {'AQI': 57, 'Date': '2024-11-13 10:00', 'PM25': 11},\n",
      " {'AQI': 50, 'Date': '2024-11-13 11:00', 'PM25': 13},\n",
      " {'AQI': 51, 'Date': '2024-11-13 13:00', 'PM25': 16},\n",
      " {'AQI': 48, 'Date': '2024-11-13 12:00', 'PM25': 14},\n",
      " {'AQI': 54, 'Date': '2024-11-13 14:00', 'PM25': 18},\n",
      " {'AQI': 54, 'Date': '2024-11-13 15:00', 'PM25': 14},\n",
      " {'AQI': 73, 'Date': '2024-11-14 13:00', 'PM25': 16},\n",
      " {'AQI': 78, 'Date': '2024-11-14 12:00', 'PM25': 18},\n",
      " {'AQI': 81, 'Date': '2024-11-14 11:00', 'PM25': 35},\n",
      " {'AQI': 76, 'Date': '2024-11-14 10:00', 'PM25': 42},\n",
      " {'AQI': 64, 'Date': '2024-11-14 09:00', 'PM25': 34},\n",
      " {'AQI': 54, 'Date': '2024-11-14 08:00', 'PM25': 30},\n",
      " {'AQI': 44, 'Date': '2024-11-14 07:00', 'PM25': 27},\n",
      " {'AQI': 31, 'Date': '2024-11-19 10:00', 'PM25': 5},\n",
      " {'AQI': 31, 'Date': '2024-11-19 09:00', 'PM25': 7},\n",
      " {'AQI': 31, 'Date': '2024-11-19 08:00', 'PM25': 9},\n",
      " {'AQI': 31, 'Date': '2024-11-19 07:00', 'PM25': 9},\n",
      " {'AQI': 33, 'Date': '2024-11-19 06:00', 'PM25': 5},\n",
      " {'AQI': 32, 'Date': '2024-11-19 05:00', 'PM25': 8}]\n"
     ]
    }
   ],
   "source": [
    "import sqlite3\n",
    "from pprint import pprint\n",
    "\n",
    "conn = sqlite3.connect(\"AQI.db\")\n",
    "with conn:\n",
    "    cursor = conn.cursor()\n",
    "    sql= \"\"\"\n",
    "        SELECT date,aqi,pm25\n",
    "        FROM record \n",
    "        WHERE sitename ='大城'  \n",
    "            \"\"\"\n",
    "    cursor.execute(sql)\n",
    "    data_list = []\n",
    "    for item in cursor.fetchall():\n",
    "        date = item[0]\n",
    "        aqi = item[1]\n",
    "        pm25 = item[2]\n",
    "        data_list.append({'Date':date,'AQI':aqi,'PM25':pm25})\n",
    "\n",
    "pprint(data_list)"
   ]
  }
 ],
 "metadata": {
  "kernelspec": {
   "display_name": "venv1",
   "language": "python",
   "name": "python3"
  },
  "language_info": {
   "codemirror_mode": {
    "name": "ipython",
    "version": 3
   },
   "file_extension": ".py",
   "mimetype": "text/x-python",
   "name": "python",
   "nbconvert_exporter": "python",
   "pygments_lexer": "ipython3",
   "version": "3.11.10"
  }
 },
 "nbformat": 4,
 "nbformat_minor": 2
}
