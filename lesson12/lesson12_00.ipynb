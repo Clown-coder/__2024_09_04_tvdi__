{
 "cells": [
  {
   "cell_type": "code",
   "execution_count": null,
   "metadata": {},
   "outputs": [],
   "source": [
    "from dotenv import load_dotenv\n",
    "import os\n",
    "load_dotenv()\n",
    "\n",
    "url = f'https://data.moenv.gov.tw/api/v2/aqx_p_488?api_key={os.environ[\"AQI_KEY\"]}&limit=1000&sort=datacreationdate desc&format=JSON'\n",
    "url"
   ]
  },
  {
   "cell_type": "code",
   "execution_count": null,
   "metadata": {},
   "outputs": [],
   "source": [
    "## 要善用 .gitignore 以及 .env\n",
    "# 只要將 .env 放到 .gitignore 就可以保護密碼 \n",
    "# 不會將金鑰匙、密碼等等重要資訊 傳到 github 上面\n",
    "# .env的功能就是放置金鑰匙的地方 \n",
    "# 要 import os 以及 from dotenv import load_dotenv\n",
    "# 並在檔案執行之前 先執行 load_dotenv()"
   ]
  }
 ],
 "metadata": {
  "kernelspec": {
   "display_name": "venv1",
   "language": "python",
   "name": "python3"
  },
  "language_info": {
   "codemirror_mode": {
    "name": "ipython",
    "version": 3
   },
   "file_extension": ".py",
   "mimetype": "text/x-python",
   "name": "python",
   "nbconvert_exporter": "python",
   "pygments_lexer": "ipython3",
   "version": "3.11.10"
  }
 },
 "nbformat": 4,
 "nbformat_minor": 2
}
