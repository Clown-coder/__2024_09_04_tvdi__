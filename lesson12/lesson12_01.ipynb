{
 "cells": [
  {
   "cell_type": "code",
   "execution_count": 5,
   "metadata": {},
   "outputs": [],
   "source": [
    "from dotenv import load_dotenv\n",
    "import os\n",
    "import requests\n",
    "load_dotenv()\n",
    "\n",
    "def get_aqi_str(aqi_key:str)->str:\n",
    "    url = f'https://data.moenv.gov.tw/api/v2/aqx_p_488?api_key={aqi_key}&limit=1000&sort=datacreationdate desc&format=JSON'\n",
    "    try:\n",
    "        r = requests.get(url)\n",
    "        r.raise_for_status()   #這樣就不用檢查 200\n",
    "    except Exception as e:\n",
    "        print(f'發生錯誤: {e}')\n",
    "\n",
    "    return r.text\n",
    "\n",
    "\n",
    "aqi_data:str = get_aqi_str(aqi_key=os.environ[\"AQI_KEY\"])"
   ]
  },
  {
   "cell_type": "code",
   "execution_count": 6,
   "metadata": {},
   "outputs": [
    {
     "ename": "ValidationError",
     "evalue": "1 validation error for AQI\n  Invalid JSON: expected value at line 1 column 1 [type=json_invalid, input_value='由本平臺呼叫環境...升資料索取權限', input_type=str]\n    For further information visit https://errors.pydantic.dev/2.10/v/json_invalid",
     "output_type": "error",
     "traceback": [
      "\u001b[1;31m---------------------------------------------------------------------------\u001b[0m",
      "\u001b[1;31mValidationError\u001b[0m                           Traceback (most recent call last)",
      "Cell \u001b[1;32mIn[6], line 19\u001b[0m\n\u001b[0;32m     16\u001b[0m \u001b[38;5;28;01mclass\u001b[39;00m \u001b[38;5;21;01mAQI\u001b[39;00m(BaseModel):\n\u001b[0;32m     17\u001b[0m     records:\u001b[38;5;28mlist\u001b[39m[Record]\n\u001b[1;32m---> 19\u001b[0m aqi \u001b[38;5;241m=\u001b[39m \u001b[43mAQI\u001b[49m\u001b[38;5;241;43m.\u001b[39;49m\u001b[43mmodel_validate_json\u001b[49m\u001b[43m(\u001b[49m\u001b[43maqi_data\u001b[49m\u001b[43m)\u001b[49m\n",
      "File \u001b[1;32mc:\\Users\\user\\miniconda3\\envs\\venv1\\Lib\\site-packages\\pydantic\\main.py:656\u001b[0m, in \u001b[0;36mBaseModel.model_validate_json\u001b[1;34m(cls, json_data, strict, context)\u001b[0m\n\u001b[0;32m    654\u001b[0m \u001b[38;5;66;03m# `__tracebackhide__` tells pytest and some other tools to omit this function from tracebacks\u001b[39;00m\n\u001b[0;32m    655\u001b[0m __tracebackhide__ \u001b[38;5;241m=\u001b[39m \u001b[38;5;28;01mTrue\u001b[39;00m\n\u001b[1;32m--> 656\u001b[0m \u001b[38;5;28;01mreturn\u001b[39;00m \u001b[38;5;28;43mcls\u001b[39;49m\u001b[38;5;241;43m.\u001b[39;49m\u001b[43m__pydantic_validator__\u001b[49m\u001b[38;5;241;43m.\u001b[39;49m\u001b[43mvalidate_json\u001b[49m\u001b[43m(\u001b[49m\u001b[43mjson_data\u001b[49m\u001b[43m,\u001b[49m\u001b[43m \u001b[49m\u001b[43mstrict\u001b[49m\u001b[38;5;241;43m=\u001b[39;49m\u001b[43mstrict\u001b[49m\u001b[43m,\u001b[49m\u001b[43m \u001b[49m\u001b[43mcontext\u001b[49m\u001b[38;5;241;43m=\u001b[39;49m\u001b[43mcontext\u001b[49m\u001b[43m)\u001b[49m\n",
      "\u001b[1;31mValidationError\u001b[0m: 1 validation error for AQI\n  Invalid JSON: expected value at line 1 column 1 [type=json_invalid, input_value='由本平臺呼叫環境...升資料索取權限', input_type=str]\n    For further information visit https://errors.pydantic.dev/2.10/v/json_invalid"
     ]
    }
   ],
   "source": [
    "from pydantic import BaseModel,Field\n",
    "\n",
    "class Record(BaseModel):\n",
    "    站點: str = Field(alias='sitename')\n",
    "    縣市: str = Field(alias=\"county\")\n",
    "    aqi:int\n",
    "    狀態: str = Field(alias='status')\n",
    "    PM25: float = Field(alias='pm2.5')\n",
    "    緯度: float = Field(alias='latitude')\n",
    "    經度: float = Field(alias=\"longitude\")\n",
    "\n",
    "\n",
    "\n",
    "\n",
    "\n",
    "class AQI(BaseModel):\n",
    "    records:list[Record]\n",
    "\n",
    "aqi = AQI.model_validate_json(aqi_data)\n",
    "\n"
   ]
  },
  {
   "cell_type": "code",
   "execution_count": null,
   "metadata": {},
   "outputs": [],
   "source": [
    "#驗證錯誤，pm2.5有空字串，無法轉換為float"
   ]
  },
  {
   "cell_type": "code",
   "execution_count": 9,
   "metadata": {},
   "outputs": [],
   "source": [
    "from pydantic import BaseModel,Field,field_validator\n",
    "\n",
    "class Record(BaseModel):\n",
    "    站點: str = Field(alias='sitename')\n",
    "    縣市: str = Field(alias=\"county\")\n",
    "    aqi: float | None\n",
    "    狀態: str = Field(alias='status')\n",
    "    PM25: float | None = Field(alias='pm2.5')\n",
    "    緯度: float = Field(alias='latitude')\n",
    "    經度: float = Field(alias=\"longitude\")\n",
    "\n",
    "    @field_validator('PM25','aqi',mode='before')   #先做下面的手動轉換 在做上面的自動轉換\n",
    "    @classmethod\n",
    "    def pm25_for_empty_string(cls,v:str)->float:\n",
    "        if v ==\"\":\n",
    "            return None\n",
    "        else:\n",
    "            return float(v)\n",
    "\n",
    "\n",
    "\n",
    "class AQI(BaseModel):\n",
    "    records:list[Record]\n",
    "\n",
    "\n",
    "aqi = AQI.model_validate_json(aqi_data)"
   ]
  },
  {
   "cell_type": "code",
   "execution_count": null,
   "metadata": {},
   "outputs": [],
   "source": [
    "aqi.records"
   ]
  },
  {
   "cell_type": "code",
   "execution_count": null,
   "metadata": {},
   "outputs": [],
   "source": [
    "aqi.model_dump()"
   ]
  },
  {
   "cell_type": "code",
   "execution_count": null,
   "metadata": {},
   "outputs": [],
   "source": [
    "aqi.model_dump()['records']"
   ]
  },
  {
   "cell_type": "code",
   "execution_count": 3,
   "metadata": {},
   "outputs": [
    {
     "ename": "ValidationError",
     "evalue": "1 validation error for AQI\n  Invalid JSON: expected value at line 1 column 1 [type=json_invalid, input_value='由本平臺呼叫環境...升資料索取權限', input_type=str]\n    For further information visit https://errors.pydantic.dev/2.10/v/json_invalid",
     "output_type": "error",
     "traceback": [
      "\u001b[1;31m---------------------------------------------------------------------------\u001b[0m",
      "\u001b[1;31mValidationError\u001b[0m                           Traceback (most recent call last)",
      "Cell \u001b[1;32mIn[3], line 36\u001b[0m\n\u001b[0;32m     32\u001b[0m \u001b[38;5;28;01mclass\u001b[39;00m \u001b[38;5;21;01mAQI\u001b[39;00m(BaseModel):\n\u001b[0;32m     33\u001b[0m     records:\u001b[38;5;28mlist\u001b[39m[Record]\n\u001b[1;32m---> 36\u001b[0m aqi \u001b[38;5;241m=\u001b[39m \u001b[43mAQI\u001b[49m\u001b[38;5;241;43m.\u001b[39;49m\u001b[43mmodel_validate_json\u001b[49m\u001b[43m(\u001b[49m\u001b[43maqi_data\u001b[49m\u001b[43m)\u001b[49m\n",
      "File \u001b[1;32mc:\\Users\\user\\miniconda3\\envs\\venv1\\Lib\\site-packages\\pydantic\\main.py:656\u001b[0m, in \u001b[0;36mBaseModel.model_validate_json\u001b[1;34m(cls, json_data, strict, context)\u001b[0m\n\u001b[0;32m    654\u001b[0m \u001b[38;5;66;03m# `__tracebackhide__` tells pytest and some other tools to omit this function from tracebacks\u001b[39;00m\n\u001b[0;32m    655\u001b[0m __tracebackhide__ \u001b[38;5;241m=\u001b[39m \u001b[38;5;28;01mTrue\u001b[39;00m\n\u001b[1;32m--> 656\u001b[0m \u001b[38;5;28;01mreturn\u001b[39;00m \u001b[38;5;28;43mcls\u001b[39;49m\u001b[38;5;241;43m.\u001b[39;49m\u001b[43m__pydantic_validator__\u001b[49m\u001b[38;5;241;43m.\u001b[39;49m\u001b[43mvalidate_json\u001b[49m\u001b[43m(\u001b[49m\u001b[43mjson_data\u001b[49m\u001b[43m,\u001b[49m\u001b[43m \u001b[49m\u001b[43mstrict\u001b[49m\u001b[38;5;241;43m=\u001b[39;49m\u001b[43mstrict\u001b[49m\u001b[43m,\u001b[49m\u001b[43m \u001b[49m\u001b[43mcontext\u001b[49m\u001b[38;5;241;43m=\u001b[39;49m\u001b[43mcontext\u001b[49m\u001b[43m)\u001b[49m\n",
      "\u001b[1;31mValidationError\u001b[0m: 1 validation error for AQI\n  Invalid JSON: expected value at line 1 column 1 [type=json_invalid, input_value='由本平臺呼叫環境...升資料索取權限', input_type=str]\n    For further information visit https://errors.pydantic.dev/2.10/v/json_invalid"
     ]
    }
   ],
   "source": [
    "from pydantic import BaseModel,Field,field_validator,field_serializer\n",
    "from datetime import datetime\n",
    "\n",
    "class Record(BaseModel):\n",
    "    日期: datetime = Field(alias='datacreationdate')\n",
    "    站點: str = Field(alias='sitename')\n",
    "    縣市: str = Field(alias=\"county\")\n",
    "    aqi: float | None\n",
    "    狀態: str = Field(alias='status')\n",
    "    PM25: float | None = Field(alias='pm2.5')\n",
    "    緯度: float = Field(alias='latitude')\n",
    "    經度: float = Field(alias=\"longitude\")\n",
    "\n",
    "    @field_validator('PM25','aqi',mode='before')   #先做下面的手動轉換 在做上面的自動轉換\n",
    "    @classmethod\n",
    "    def pm25_for_empty_string(cls,v:str)->float:\n",
    "        if v ==\"\":\n",
    "            return None\n",
    "        else:\n",
    "            return float(v)\n",
    "        \n",
    "    @field_serializer('緯度','經度')\n",
    "    def four_digits(self,value:float)->float:\n",
    "        return round(value,ndigits=4)\n",
    "    \n",
    "    @field_serializer('日期')\n",
    "    def datetime_to_str(self,date:datetime)->str:\n",
    "        return date.strftime('%Y-%m-%d %H-%M:00')\n",
    "\n",
    "\n",
    "\n",
    "class AQI(BaseModel):\n",
    "    records:list[Record]\n",
    "\n",
    "\n",
    "aqi = AQI.model_validate_json(aqi_data)"
   ]
  },
  {
   "cell_type": "code",
   "execution_count": 4,
   "metadata": {},
   "outputs": [
    {
     "ename": "NameError",
     "evalue": "name 'aqi' is not defined",
     "output_type": "error",
     "traceback": [
      "\u001b[1;31m---------------------------------------------------------------------------\u001b[0m",
      "\u001b[1;31mNameError\u001b[0m                                 Traceback (most recent call last)",
      "Cell \u001b[1;32mIn[4], line 1\u001b[0m\n\u001b[1;32m----> 1\u001b[0m aqi_data:\u001b[38;5;28mlist\u001b[39m[\u001b[38;5;28mdict\u001b[39m] \u001b[38;5;241m=\u001b[39m \u001b[43maqi\u001b[49m\u001b[38;5;241m.\u001b[39mmodel_dump()[\u001b[38;5;124m'\u001b[39m\u001b[38;5;124mrecords\u001b[39m\u001b[38;5;124m'\u001b[39m]\n\u001b[0;32m      2\u001b[0m \u001b[38;5;28;01mfor\u001b[39;00m aqi_item \u001b[38;5;129;01min\u001b[39;00m aqi_data:\n\u001b[0;32m      3\u001b[0m     \u001b[38;5;28mprint\u001b[39m(aqi_item)\n",
      "\u001b[1;31mNameError\u001b[0m: name 'aqi' is not defined"
     ]
    }
   ],
   "source": [
    "aqi_data:list[dict] = aqi.model_dump()['records']\n",
    "for aqi_item in aqi_data:\n",
    "    print(aqi_item)"
   ]
  }
 ],
 "metadata": {
  "kernelspec": {
   "display_name": "venv1",
   "language": "python",
   "name": "python3"
  },
  "language_info": {
   "codemirror_mode": {
    "name": "ipython",
    "version": 3
   },
   "file_extension": ".py",
   "mimetype": "text/x-python",
   "name": "python",
   "nbconvert_exporter": "python",
   "pygments_lexer": "ipython3",
   "version": "3.11.10"
  }
 },
 "nbformat": 4,
 "nbformat_minor": 2
}
