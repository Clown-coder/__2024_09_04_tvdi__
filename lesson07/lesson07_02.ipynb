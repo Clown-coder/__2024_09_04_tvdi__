{
 "cells": [
  {
   "cell_type": "markdown",
   "metadata": {},
   "source": [
    "wiht conn:\n",
    "    with conn.cursor() as cursor:\n",
    "        cursor.execute(sql)\n",
    "\n",
    "這樣寫就不用close了，但sql3不支援 改成下面另一個寫法"
   ]
  },
  {
   "cell_type": "code",
   "execution_count": null,
   "metadata": {},
   "outputs": [],
   "source": [
    "import sqlite3\n",
    "conn = sqlite3.connect(\"AQI.db\")\n",
    "with conn:\n",
    "    sql ='''\n",
    "    CREATE TABLE record (\n",
    "        id INTEGER NOT NULL PRIMARY KEY AUTOINCREMENT,\n",
    "        sitename TEXT NOT NULL,\n",
    "        county TEXT,\n",
    "        aqi INTEGER,\n",
    "        status TEXT,\n",
    "        pm25 NUMERIC,\n",
    "        date TEXT,\n",
    "        lat NUMERIC,\n",
    "        lon NUMERIC,\n",
    "        UNIQUE (date,sitename)\n",
    "    );\n",
    "    '''\n",
    "    with conn.cursor() as cursor:\n",
    "        cursor.execute(sql)\n",
    "\n",
    "\n"
   ]
  },
  {
   "cell_type": "markdown",
   "metadata": {},
   "source": [
    "以下寫法 也不用 寫commit 跟 close"
   ]
  },
  {
   "cell_type": "code",
   "execution_count": 5,
   "metadata": {},
   "outputs": [],
   "source": [
    "import sqlite3\n",
    "conn = sqlite3.connect(\"AQI.db\")\n",
    "with conn:\n",
    "    sql ='''\n",
    "    CREATE TABLE record (\n",
    "        id INTEGER NOT NULL PRIMARY KEY AUTOINCREMENT,\n",
    "        sitename TEXT NOT NULL,\n",
    "        county TEXT,\n",
    "        aqi INTEGER,\n",
    "        status TEXT,\n",
    "        pm25 NUMERIC,\n",
    "        date TEXT,\n",
    "        lat NUMERIC,\n",
    "        lon NUMERIC,\n",
    "        UNIQUE (date,sitename)\n",
    "    );\n",
    "    '''\n",
    "    cursor =conn.cursor()\n",
    "    cursor.execute(sql)"
   ]
  },
  {
   "cell_type": "code",
   "execution_count": 6,
   "metadata": {},
   "outputs": [
    {
     "name": "stdout",
     "output_type": "stream",
     "text": [
      "['馬祖', '竹東', '屏東（琉球）', '嘉義', '基隆', '彰化', '斗六', '潮州', '林口', '復興', '恆春', '臺東', '鳳山', '三重', '前金', '新竹', '陽明', '臺南', '崙背', '小港', '金門', '桃園', '高雄（湖內）', '左營', '前鎮', '竹山', '仁武', '萬華', '關山', '新北(樹林)', '安南', '新港', '大里', '永和', '汐止', '忠明', '屏東', '麥寮', '板橋', '花蓮', '臺南（麻豆）', '宜蘭（頭城）', '臺西', '林園', '新營', '新店', '馬公', '頭份', '大同', '三義', '豐原', '宜蘭', '埔里', '平鎮', '美濃', '屏東(枋山)', '冬山', '萬里', '士林', '中壢', '楠梓', '大城', '線西', '南投', '朴子', '沙鹿', '淡水', '大園', '苗栗', '彰化（員林）', '橋頭', '觀音', '富貴角', '湖口', '西屯', '菜寮', '松山', '大寮', '二林', '善化', '龍潭', '古亭', '土城', '新莊', '中山']\n"
     ]
    }
   ],
   "source": [
    "import requests\n",
    "\n",
    "url = 'https://data.moenv.gov.tw/api/v2/aqx_p_488?api_key=e8dd42e6-9b8b-43f8-991e-b3dee723a52d&limit=1000&sort=datacreationdate%20desc&format=JSON'\n",
    "\n",
    "try:\n",
    "    response = requests.get(url)\n",
    "    response.raise_for_status()\n",
    "    data = response.json()\n",
    "except Exception as e:\n",
    "    print(e)\n",
    "\n",
    "else:\n",
    "    sitenames = set()\n",
    "\n",
    "    for items in data['records']:\n",
    "        sitenames.add(items['sitename'])\n",
    "\n",
    "    sitenames = list(sitenames)\n"
   ]
  },
  {
   "cell_type": "code",
   "execution_count": 8,
   "metadata": {},
   "outputs": [
    {
     "data": {
      "text/plain": [
       "[['2024-11-04 10:00', '臺北市', '37', '13', '良好', '25.046503', '121.507972'],\n",
       " ['2024-11-04 09:00', '臺北市', '33', '11', '良好', '25.046503', '121.507972'],\n",
       " ['2024-11-04 09:00', '臺北市', '33', '11', '良好', '25.046503', '121.507972'],\n",
       " ['2024-11-04 08:00', '臺北市', '34', '12', '良好', '25.046503', '121.507972'],\n",
       " ['2024-11-04 08:00', '臺北市', '34', '12', '良好', '25.046503', '121.507972'],\n",
       " ['2024-11-04 07:00', '臺北市', '32', '12', '良好', '25.046503', '121.507972'],\n",
       " ['2024-11-04 07:00', '臺北市', '32', '12', '良好', '25.046503', '121.507972'],\n",
       " ['2024-11-04 06:00', '臺北市', '31', '6', '良好', '25.046503', '121.507972'],\n",
       " ['2024-11-04 06:00', '臺北市', '31', '6', '良好', '25.046503', '121.507972'],\n",
       " ['2024-11-04 05:00', '臺北市', '34', '10', '良好', '25.046503', '121.507972'],\n",
       " ['2024-11-04 05:00', '臺北市', '34', '10', '良好', '25.046503', '121.507972']]"
      ]
     },
     "execution_count": 8,
     "metadata": {},
     "output_type": "execute_result"
    }
   ],
   "source": [
    "import datasouce\n",
    "datasouce.get_selected_data(sitename='萬華')"
   ]
  },
  {
   "cell_type": "markdown",
   "metadata": {},
   "source": [
    "以下方法 insert or ignore 搭配 上面的UNIQUE()  \n",
    "就可以避免重複輸入資料到資料庫"
   ]
  },
  {
   "cell_type": "code",
   "execution_count": 12,
   "metadata": {},
   "outputs": [],
   "source": [
    "import sqlite3\n",
    "conn = sqlite3.connect(\"AQI.db\")\n",
    "with conn:\n",
    "    sql ='''\n",
    "    INSERT OR IGNORE INTO record(sitename,county,aqi,status,pm25,date,lat,lon)\n",
    "VALUES ('萬華', '臺北市', 37, '良好', 13, '2024-11-04 10:00',25.046503, 121.507972);\n",
    "    '''\n",
    "    cursor =conn.cursor()\n",
    "    cursor.execute(sql)"
   ]
  },
  {
   "cell_type": "code",
   "execution_count": 14,
   "metadata": {},
   "outputs": [],
   "source": [
    "import sqlite3\n",
    "conn = sqlite3.connect(\"AQI.db\")\n",
    "url = 'https://data.moenv.gov.tw/api/v2/aqx_p_488?api_key=e8dd42e6-9b8b-43f8-991e-b3dee723a52d&limit=1000&sort=datacreationdate%20desc&format=JSON'\n",
    "\n",
    "try:\n",
    "        response = requests.get(url)\n",
    "        response.raise_for_status()\n",
    "        data = response.json()\n",
    "except Exception as e:\n",
    "            print(e)\n",
    "\n",
    "else:\n",
    "    sitenames = set()\n",
    "    with conn:\n",
    "        cursor =conn.cursor() \n",
    "        for items in data['records']:\n",
    "            sitenames = items['sitename']\n",
    "            county = items['county']\n",
    "            aqi = int(items['aqi']) if items['aqi'] !='' else 0\n",
    "            status = items['status']\n",
    "            pm25 = float(items['pm2.5']) if items['pm2.5'] !='' else 0\n",
    "            date = items['datacreationdate']\n",
    "            lat = float(items['latitude']) if items['latitude'] !='' else 0\n",
    "            lon = float(items['longitude']) if items['longitude'] != '' else 0\n",
    "            sql = '''\n",
    "                INSERT OR IGNORE INTO record(sitename,county,aqi,status,pm25,date,lat,lon)\n",
    "                VALUES (?, ?, ?, ?,?, ?,?,?);\n",
    "                ''' \n",
    "            cursor.execute(sql,(sitenames,county,aqi,status,pm25,date,lat,lon))\n"
   ]
  }
 ],
 "metadata": {
  "kernelspec": {
   "display_name": "venv1",
   "language": "python",
   "name": "python3"
  },
  "language_info": {
   "codemirror_mode": {
    "name": "ipython",
    "version": 3
   },
   "file_extension": ".py",
   "mimetype": "text/x-python",
   "name": "python",
   "nbconvert_exporter": "python",
   "pygments_lexer": "ipython3",
   "version": "3.11.10"
  }
 },
 "nbformat": 4,
 "nbformat_minor": 2
}
