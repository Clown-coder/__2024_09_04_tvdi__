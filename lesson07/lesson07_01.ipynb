{
 "cells": [
  {
   "cell_type": "code",
   "execution_count": 3,
   "metadata": {},
   "outputs": [],
   "source": [
    "sql = '''\n",
    "\n",
    "CREATE TABLE IF NOT EXISTs records (\n",
    "\tid INTEGER NOT NULL PRIMARY KEY AUTOINCREMENT,\n",
    "\tsitename TEXT NOT NULL,\n",
    "\tcounty TEXT,\n",
    "\taqi INTEGER,\n",
    "\tstatus TEXT,\n",
    "\tpm25 NUMERIC,\n",
    "\tdate TEXT,\n",
    "\tlat NUMERIC,\n",
    "\tlon NUMERIC\n",
    ");\n",
    "\n",
    "'''\n",
    "\n",
    "import sqlite3\n",
    "\n",
    "conn = sqlite3.connect('AQI.db')\n",
    "\n",
    "cursor = conn.cursor()\n",
    "\n",
    "cursor.execute(sql)\n",
    "\n",
    "conn.commit()\n",
    "cursor.close()\n",
    "conn.close()"
   ]
  },
  {
   "cell_type": "code",
   "execution_count": 4,
   "metadata": {},
   "outputs": [],
   "source": [
    "insertSQL= \"\"\"\n",
    "INSERT INTO records(sitename,county,aqi,status,pm25,date,lat,lon)\n",
    "VALUES ('屏東(枋山)','屏東縣',17,'良好',6.5,'2024-10-28 09:00',22.260899,120.651472)\n",
    "\"\"\"\n",
    "import sqlite3\n",
    "\n",
    "conn = sqlite3.connect('AQI.db')\n",
    "#create a cursor object\n",
    "cursor = conn.cursor()\n",
    "#create a table 可以用迴圈\n",
    "cursor.execute(insertSQL)\n",
    "#commit changes and close the connection\n",
    "conn.commit()\n",
    "cursor.close()\n",
    "conn.close()"
   ]
  }
 ],
 "metadata": {
  "kernelspec": {
   "display_name": "venv1",
   "language": "python",
   "name": "python3"
  },
  "language_info": {
   "codemirror_mode": {
    "name": "ipython",
    "version": 3
   },
   "file_extension": ".py",
   "mimetype": "text/x-python",
   "name": "python",
   "nbconvert_exporter": "python",
   "pygments_lexer": "ipython3",
   "version": "3.11.10"
  }
 },
 "nbformat": 4,
 "nbformat_minor": 2
}
