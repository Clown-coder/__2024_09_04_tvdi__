{
 "cells": [
  {
   "cell_type": "code",
   "execution_count": null,
   "metadata": {},
   "outputs": [],
   "source": [
    "## python decorator\n"
   ]
  },
  {
   "cell_type": "code",
   "execution_count": 1,
   "metadata": {},
   "outputs": [
    {
     "data": {
      "text/plain": [
       "'Total 13'"
      ]
     },
     "execution_count": 1,
     "metadata": {},
     "output_type": "execute_result"
    }
   ],
   "source": [
    "from typing import Callable\n",
    "def my_function(a:int,b:int)->str:\n",
    "    return f'Total {a+b}'\n",
    "\n",
    "def apply_function(func:Callable[[int,int],str],x:int,y:int)->str:\n",
    "    return func(x,y)\n",
    "\n",
    "apply_function(my_function,5,8)"
   ]
  },
  {
   "cell_type": "code",
   "execution_count": 4,
   "metadata": {},
   "outputs": [
    {
     "data": {
      "text/plain": [
       "'Total 17'"
      ]
     },
     "execution_count": 4,
     "metadata": {},
     "output_type": "execute_result"
    }
   ],
   "source": [
    "## function 可以有資料類型\n",
    "## function 可以當作別的 function 的引數值\n",
    "from typing import Callable\n",
    "\n",
    "\n",
    "MyFunctionType = Callable[[int,int],str]\n",
    "\n",
    "def my_function(a:int,b:int)->str:\n",
    "    return f'Total {a+b}'\n",
    "\n",
    "def apply_function(func:MyFunctionType,x:int,y:int)->str:\n",
    "    return func(8,9)\n",
    "\n",
    "apply_function(my_function,5,8)"
   ]
  },
  {
   "cell_type": "code",
   "execution_count": 10,
   "metadata": {},
   "outputs": [
    {
     "name": "stdout",
     "output_type": "stream",
     "text": [
      "Hello world\n"
     ]
    }
   ],
   "source": [
    "\n",
    "\n",
    "def greet():\n",
    "    print(\"Hello world\")\n",
    "\n",
    "\n",
    "greeting = greet\n",
    "greeting()\n",
    "\n"
   ]
  },
  {
   "cell_type": "code",
   "execution_count": 13,
   "metadata": {},
   "outputs": [],
   "source": [
    "def outter_functino():\n",
    "    print(\"outter function !!!!\")\n",
    "    def inner_function():\n",
    "        print(\"!!!! INNER FUNCTION\")\n",
    "\n",
    "    return inner_function\n",
    "\n"
   ]
  },
  {
   "cell_type": "code",
   "execution_count": 15,
   "metadata": {},
   "outputs": [
    {
     "name": "stdout",
     "output_type": "stream",
     "text": [
      "outter function !!!!\n"
     ]
    }
   ],
   "source": [
    "my_func = outter_functino()\n"
   ]
  },
  {
   "cell_type": "code",
   "execution_count": 16,
   "metadata": {},
   "outputs": [
    {
     "name": "stdout",
     "output_type": "stream",
     "text": [
      "!!!! INNER FUNCTION\n"
     ]
    }
   ],
   "source": [
    "my_func()"
   ]
  },
  {
   "cell_type": "code",
   "execution_count": 19,
   "metadata": {},
   "outputs": [
    {
     "name": "stdout",
     "output_type": "stream",
     "text": [
      "前面增加功能\n",
      "Good-Bye\n",
      "後面增加的功能\n"
     ]
    }
   ],
   "source": [
    "def say_goodbye():\n",
    "    print('Good-Bye')\n",
    "\n",
    "#建立一個function , 這個function 會擴充say_goodbye()的功能\n",
    "#decorator_function\n",
    "def decorator_function(original_function):\n",
    "    def wrapper_function():\n",
    "        print('前面增加功能')\n",
    "        original_function()\n",
    "        print('後面增加的功能')\n",
    "    return wrapper_function\n",
    "\n",
    "myfunc=decorator_function(say_goodbye)\n",
    "myfunc()"
   ]
  },
  {
   "cell_type": "code",
   "execution_count": 21,
   "metadata": {},
   "outputs": [
    {
     "name": "stdout",
     "output_type": "stream",
     "text": [
      "前面增加功能\n",
      "happy\n",
      "後面增加的功能\n"
     ]
    }
   ],
   "source": [
    "def decorator_function(original_function):\n",
    "    def wrapper_function():\n",
    "        print('前面增加功能')\n",
    "        original_function()\n",
    "        print('後面增加的功能')\n",
    "    return wrapper_function\n",
    "\n",
    "\n",
    "@decorator_function\n",
    "def sad():\n",
    "    print('happy')\n",
    "\n",
    "sad()"
   ]
  },
  {
   "cell_type": "code",
   "execution_count": 25,
   "metadata": {},
   "outputs": [
    {
     "name": "stdout",
     "output_type": "stream",
     "text": [
      "Done\n"
     ]
    }
   ],
   "source": [
    "import time\n",
    "def slow_function():\n",
    "    time.sleep(2)\n",
    "    print(\"Done\")\n",
    "\n",
    "slow_function()"
   ]
  },
  {
   "cell_type": "code",
   "execution_count": 26,
   "metadata": {},
   "outputs": [
    {
     "name": "stdout",
     "output_type": "stream",
     "text": [
      "Done\n",
      "Done\n"
     ]
    }
   ],
   "source": [
    "import time\n",
    "def slow_function():\n",
    "    print(\"Done\")\n",
    "    time.sleep(2)\n",
    "    print(\"Done\")\n",
    "\n",
    "slow_function()"
   ]
  },
  {
   "cell_type": "code",
   "execution_count": 28,
   "metadata": {},
   "outputs": [
    {
     "name": "stdout",
     "output_type": "stream",
     "text": [
      "Done\n",
      "slow_function 花費多少時間 2.0018\n"
     ]
    }
   ],
   "source": [
    "import time\n",
    "\n",
    "def timer_decorator(func):\n",
    "    def wrapper():\n",
    "        start_time = time.time()\n",
    "        func()\n",
    "        end_time = time.time()\n",
    "        print(f'{func.__name__} 花費多少時間 {end_time-start_time:.4f}')\n",
    "    return wrapper\n",
    "\n",
    "@timer_decorator\n",
    "def slow_function():\n",
    "    time.sleep(2)\n",
    "    print(\"Done\")\n",
    "\n",
    "\n",
    "slow_function()"
   ]
  }
 ],
 "metadata": {
  "kernelspec": {
   "display_name": "venv1",
   "language": "python",
   "name": "python3"
  },
  "language_info": {
   "codemirror_mode": {
    "name": "ipython",
    "version": 3
   },
   "file_extension": ".py",
   "mimetype": "text/x-python",
   "name": "python",
   "nbconvert_exporter": "python",
   "pygments_lexer": "ipython3",
   "version": "3.11.10"
  }
 },
 "nbformat": 4,
 "nbformat_minor": 2
}
